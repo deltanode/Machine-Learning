{
 "cells": [
  {
   "cell_type": "markdown",
   "metadata": {},
   "source": [
    "## Customer Subscription Prediction : \n",
    "\n",
    "In this project, we will Predict customers who are going to subscribe the premium feature of the mobile application based on data of customer enrollment & usage of the Free Trial of mobile application premium feature."
   ]
  },
  {
   "cell_type": "code",
   "execution_count": 20,
   "metadata": {},
   "outputs": [],
   "source": [
    "# import libraries\n",
    "import numpy as np\n",
    "import pandas as pd\n",
    "import matplotlib.pyplot as plt\n",
    "import seaborn as sns"
   ]
  },
  {
   "cell_type": "code",
   "execution_count": 8,
   "metadata": {},
   "outputs": [
    {
     "data": {
      "text/plain": [
       "(50000, 12)"
      ]
     },
     "execution_count": 8,
     "metadata": {},
     "output_type": "execute_result"
    }
   ],
   "source": [
    "# load dataset\n",
    "\n",
    "app_data = pd.read_csv(\"dataset\\mobile_app_data.csv\")\n",
    "app_data.shape"
   ]
  },
  {
   "cell_type": "code",
   "execution_count": 9,
   "metadata": {},
   "outputs": [],
   "source": [
    "pd.set_option(\"display.max_columns\",None)\n",
    "pd.set_option(\"display.max_rows\",None)"
   ]
  },
  {
   "cell_type": "code",
   "execution_count": 11,
   "metadata": {
    "scrolled": true
   },
   "outputs": [
    {
     "data": {
      "text/html": [
       "<div>\n",
       "<style scoped>\n",
       "    .dataframe tbody tr th:only-of-type {\n",
       "        vertical-align: middle;\n",
       "    }\n",
       "\n",
       "    .dataframe tbody tr th {\n",
       "        vertical-align: top;\n",
       "    }\n",
       "\n",
       "    .dataframe thead th {\n",
       "        text-align: right;\n",
       "    }\n",
       "</style>\n",
       "<table border=\"1\" class=\"dataframe\">\n",
       "  <thead>\n",
       "    <tr style=\"text-align: right;\">\n",
       "      <th></th>\n",
       "      <th>user</th>\n",
       "      <th>first_open</th>\n",
       "      <th>dayofweek</th>\n",
       "      <th>hour</th>\n",
       "      <th>age</th>\n",
       "      <th>screen_list</th>\n",
       "      <th>numscreens</th>\n",
       "      <th>minigame</th>\n",
       "      <th>used_premium_feature</th>\n",
       "      <th>enrolled</th>\n",
       "      <th>enrolled_date</th>\n",
       "      <th>liked</th>\n",
       "    </tr>\n",
       "  </thead>\n",
       "  <tbody>\n",
       "    <tr>\n",
       "      <th>0</th>\n",
       "      <td>235136</td>\n",
       "      <td>2012-12-27 02:14:51.273</td>\n",
       "      <td>3</td>\n",
       "      <td>02:00:00</td>\n",
       "      <td>23</td>\n",
       "      <td>idscreen,joinscreen,Cycle,product_review,ScanP...</td>\n",
       "      <td>15</td>\n",
       "      <td>0</td>\n",
       "      <td>0</td>\n",
       "      <td>0</td>\n",
       "      <td>NaN</td>\n",
       "      <td>0</td>\n",
       "    </tr>\n",
       "    <tr>\n",
       "      <th>1</th>\n",
       "      <td>333588</td>\n",
       "      <td>2012-12-02 01:16:00.905</td>\n",
       "      <td>6</td>\n",
       "      <td>01:00:00</td>\n",
       "      <td>24</td>\n",
       "      <td>joinscreen,product_review,product_review2,Scan...</td>\n",
       "      <td>13</td>\n",
       "      <td>0</td>\n",
       "      <td>0</td>\n",
       "      <td>0</td>\n",
       "      <td>NaN</td>\n",
       "      <td>0</td>\n",
       "    </tr>\n",
       "    <tr>\n",
       "      <th>2</th>\n",
       "      <td>254414</td>\n",
       "      <td>2013-03-19 19:19:09.157</td>\n",
       "      <td>1</td>\n",
       "      <td>19:00:00</td>\n",
       "      <td>23</td>\n",
       "      <td>Splash,Cycle,Loan</td>\n",
       "      <td>3</td>\n",
       "      <td>0</td>\n",
       "      <td>1</td>\n",
       "      <td>0</td>\n",
       "      <td>NaN</td>\n",
       "      <td>1</td>\n",
       "    </tr>\n",
       "    <tr>\n",
       "      <th>3</th>\n",
       "      <td>234192</td>\n",
       "      <td>2013-07-05 16:08:46.354</td>\n",
       "      <td>4</td>\n",
       "      <td>16:00:00</td>\n",
       "      <td>28</td>\n",
       "      <td>product_review,Home,product_review,Loan3,Finan...</td>\n",
       "      <td>40</td>\n",
       "      <td>0</td>\n",
       "      <td>0</td>\n",
       "      <td>1</td>\n",
       "      <td>2013-07-05 16:11:49.513</td>\n",
       "      <td>0</td>\n",
       "    </tr>\n",
       "    <tr>\n",
       "      <th>4</th>\n",
       "      <td>51549</td>\n",
       "      <td>2013-02-26 18:50:48.661</td>\n",
       "      <td>1</td>\n",
       "      <td>18:00:00</td>\n",
       "      <td>31</td>\n",
       "      <td>idscreen,joinscreen,Cycle,Credit3Container,Sca...</td>\n",
       "      <td>32</td>\n",
       "      <td>0</td>\n",
       "      <td>0</td>\n",
       "      <td>1</td>\n",
       "      <td>2013-02-26 18:56:37.841</td>\n",
       "      <td>1</td>\n",
       "    </tr>\n",
       "  </tbody>\n",
       "</table>\n",
       "</div>"
      ],
      "text/plain": [
       "     user               first_open  dayofweek       hour  age  \\\n",
       "0  235136  2012-12-27 02:14:51.273          3   02:00:00   23   \n",
       "1  333588  2012-12-02 01:16:00.905          6   01:00:00   24   \n",
       "2  254414  2013-03-19 19:19:09.157          1   19:00:00   23   \n",
       "3  234192  2013-07-05 16:08:46.354          4   16:00:00   28   \n",
       "4   51549  2013-02-26 18:50:48.661          1   18:00:00   31   \n",
       "\n",
       "                                         screen_list  numscreens  minigame  \\\n",
       "0  idscreen,joinscreen,Cycle,product_review,ScanP...          15         0   \n",
       "1  joinscreen,product_review,product_review2,Scan...          13         0   \n",
       "2                                  Splash,Cycle,Loan           3         0   \n",
       "3  product_review,Home,product_review,Loan3,Finan...          40         0   \n",
       "4  idscreen,joinscreen,Cycle,Credit3Container,Sca...          32         0   \n",
       "\n",
       "   used_premium_feature  enrolled            enrolled_date  liked  \n",
       "0                     0         0                      NaN      0  \n",
       "1                     0         0                      NaN      0  \n",
       "2                     1         0                      NaN      1  \n",
       "3                     0         1  2013-07-05 16:11:49.513      0  \n",
       "4                     0         1  2013-02-26 18:56:37.841      1  "
      ]
     },
     "execution_count": 11,
     "metadata": {},
     "output_type": "execute_result"
    }
   ],
   "source": [
    "app_data.head()"
   ]
  },
  {
   "cell_type": "code",
   "execution_count": 19,
   "metadata": {},
   "outputs": [
    {
     "name": "stdout",
     "output_type": "stream",
     "text": [
      "idscreen,joinscreen,Cycle,product_review,ScanPreview,VerifyDateOfBirth,VerifyPhone,VerifyToken,ProfileVerifySSN,Loan2,Settings,ForgotPassword,Login \n",
      "\n",
      "joinscreen,product_review,product_review2,ScanPreview,VerifyDateOfBirth,location,VerifyCountry,VerifyPhone,VerifyToken,Institutions,Loan2 \n",
      "\n",
      "Splash,Cycle,Loan \n",
      "\n",
      "product_review,Home,product_review,Loan3,Finances,Credit3,ReferralContainer,Leaderboard,Rewards,RewardDetail,ScanPreview,location,VerifyDateOfBirth,VerifyPhone,VerifySSN,Credit1,Credit2 \n",
      "\n",
      "idscreen,joinscreen,Cycle,Credit3Container,ScanPreview,VerifyPhone,VerifySSN,Credit1,Loan2,Home,Institutions,SelectInstitution,BankVerification,ReferralContainer,product_review,product_review2,VerifyCountry,VerifyToken,product_review \n",
      "\n"
     ]
    }
   ],
   "source": [
    "# View \"screen_list\" column in detail\n",
    "for i in range(5):\n",
    "    print(app_data.loc[i,\"screen_list\"],\"\\n\")"
   ]
  },
  {
   "cell_type": "markdown",
   "metadata": {},
   "source": [
    "#### Exploratory Data Analysis"
   ]
  },
  {
   "cell_type": "code",
   "execution_count": null,
   "metadata": {},
   "outputs": [],
   "source": []
  },
  {
   "cell_type": "code",
   "execution_count": null,
   "metadata": {},
   "outputs": [],
   "source": []
  },
  {
   "cell_type": "code",
   "execution_count": null,
   "metadata": {},
   "outputs": [],
   "source": []
  },
  {
   "cell_type": "code",
   "execution_count": null,
   "metadata": {},
   "outputs": [],
   "source": []
  },
  {
   "cell_type": "code",
   "execution_count": null,
   "metadata": {},
   "outputs": [],
   "source": []
  },
  {
   "cell_type": "code",
   "execution_count": null,
   "metadata": {},
   "outputs": [],
   "source": []
  },
  {
   "cell_type": "code",
   "execution_count": null,
   "metadata": {},
   "outputs": [],
   "source": []
  },
  {
   "cell_type": "code",
   "execution_count": null,
   "metadata": {},
   "outputs": [],
   "source": []
  },
  {
   "cell_type": "code",
   "execution_count": null,
   "metadata": {},
   "outputs": [],
   "source": []
  },
  {
   "cell_type": "code",
   "execution_count": null,
   "metadata": {},
   "outputs": [],
   "source": []
  },
  {
   "cell_type": "code",
   "execution_count": null,
   "metadata": {},
   "outputs": [],
   "source": []
  }
 ],
 "metadata": {
  "kernelspec": {
   "display_name": "Python 3",
   "language": "python",
   "name": "python3"
  },
  "language_info": {
   "codemirror_mode": {
    "name": "ipython",
    "version": 3
   },
   "file_extension": ".py",
   "mimetype": "text/x-python",
   "name": "python",
   "nbconvert_exporter": "python",
   "pygments_lexer": "ipython3",
   "version": "3.8.0"
  }
 },
 "nbformat": 4,
 "nbformat_minor": 4
}
